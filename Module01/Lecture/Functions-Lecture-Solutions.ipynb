{
 "cells": [
  {
   "cell_type": "code",
   "execution_count": 3,
   "metadata": {
    "slideshow": {
     "slide_type": "slide"
    }
   },
   "outputs": [],
   "source": [
    "import matplotlib.pyplot as plt\n",
    "import numpy as np\n",
    "%matplotlib inline"
   ]
  },
  {
   "cell_type": "markdown",
   "metadata": {
    "slideshow": {
     "slide_type": "slide"
    }
   },
   "source": [
    "# Functions\n",
    "- A block of code that runs only when its called\n",
    "- Can be passed input (e.g. parameters) and return output\n",
    "\n",
    "## Defining a function in python:\n",
    "- Function begins with keyword **def**\n",
    "- Need parentheses after function name followed by a *:*\n",
    "- A function can take arguments/parameters\n",
    "- A function is exited by a **return** statement. Can be used to return value/expression or **None** "
   ]
  },
  {
   "cell_type": "code",
   "execution_count": 4,
   "metadata": {},
   "outputs": [],
   "source": [
    "#basic function\n",
    "def func1():\n",
    "    print(\"function func1\")\n",
    "    \n",
    "#basic function with arguments\n",
    "def func2(arg1, arg2):\n",
    "    print(arg1,' ',arg2)\n",
    "\n",
    "#function that returns a value\n",
    "def func3(num):\n",
    "    return num**2\n",
    "\n",
    "#function with default argument\n",
    "def func4(num,x=1):\n",
    "    result = num**x\n",
    "    return result\n",
    "\n",
    "#function with variable number of arguments\n",
    "def func5(*args):\n",
    "    result=0\n",
    "    for i in range (len(args)):\n",
    "        print('i:',i)\n",
    "        print('arg:',args[i])\n",
    "        result = result + args[i]\n",
    "    return result"
   ]
  },
  {
   "cell_type": "code",
   "execution_count": 17,
   "metadata": {},
   "outputs": [
    {
     "name": "stdout",
     "output_type": "stream",
     "text": [
      "i: 0\n",
      "arg: 1\n",
      "i: 1\n",
      "arg: 2\n",
      "i: 2\n",
      "arg: 3\n"
     ]
    },
    {
     "data": {
      "text/plain": [
       "6"
      ]
     },
     "execution_count": 17,
     "metadata": {},
     "output_type": "execute_result"
    }
   ],
   "source": [
    "my_var = np.array([1,2,3])\n",
    "func5(*my_var)"
   ]
  },
  {
   "cell_type": "markdown",
   "metadata": {
    "slideshow": {
     "slide_type": "slide"
    }
   },
   "source": [
    "# Scope\n",
    "- Depending on where you define a variable it may or may not be accessible at all locations in the program.\n",
    "- There are two main variable scopes: **global** and **local** variables\n",
    "- Variables defined within a function body have a **local** scope, and are not accessable outside the function\n",
    "- Variables defined outside of functions have a **global** scope."
   ]
  },
  {
   "cell_type": "code",
   "execution_count": 18,
   "metadata": {
    "slideshow": {
     "slide_type": "subslide"
    }
   },
   "outputs": [
    {
     "name": "stdout",
     "output_type": "stream",
     "text": [
      "Inside the function square =  4\n",
      "z=  1\n",
      "Outside the function square =  0\n",
      "Inside the function square =  4\n",
      "z=  1\n",
      "After assignment, outside the function square =  4\n"
     ]
    },
    {
     "ename": "NameError",
     "evalue": "name 'j' is not defined",
     "output_type": "error",
     "traceback": [
      "\u001b[0;31m---------------------------------------------------------------------------\u001b[0m",
      "\u001b[0;31mNameError\u001b[0m                                 Traceback (most recent call last)",
      "Cell \u001b[0;32mIn[18], line 18\u001b[0m\n\u001b[1;32m     15\u001b[0m square \u001b[38;5;241m=\u001b[39m my_f(x)\n\u001b[1;32m     16\u001b[0m \u001b[38;5;28mprint\u001b[39m(\u001b[38;5;124m'\u001b[39m\u001b[38;5;124mAfter assignment, outside the function square = \u001b[39m\u001b[38;5;124m'\u001b[39m,square)\n\u001b[0;32m---> 18\u001b[0m \u001b[38;5;28mprint\u001b[39m(\u001b[38;5;124m'\u001b[39m\u001b[38;5;124mj = \u001b[39m\u001b[38;5;124m'\u001b[39m,j)\n",
      "\u001b[0;31mNameError\u001b[0m: name 'j' is not defined"
     ]
    }
   ],
   "source": [
    "def my_f(y):\n",
    "    square = y**2 #is local --(1)\n",
    "    print('Inside the function square = ', square) #--(1)\n",
    "    print('z= ',z) #finds global --(3)\n",
    "    j = 8; # --(2)\n",
    "    return square\n",
    "\n",
    "square = 0; #--(1)\n",
    "x = 2; #global --(1)\n",
    "z = 1; #global --(3)\n",
    "\n",
    "my_f(x)\n",
    "print('Outside the function square = ',square)\n",
    "\n",
    "square = my_f(x)\n",
    "print('After assignment, outside the function square = ',square)\n",
    "\n",
    "print('j = ',j) #j is local scope of function my_f --(2)\n"
   ]
  },
  {
   "cell_type": "markdown",
   "metadata": {},
   "source": [
    "# How Python Defines Scope:\n",
    "\n",
    "## LEGB\n",
    "**L**ocal, **E**nclosing, **G**lobal, **B**uilt-in\n",
    "\n",
    "1. First check if variable is defined in **local** scope\n",
    "2. If not, then check **enclosing** scope\n",
    "3. Check **global** scope\n",
    "4. Finally, check python **built-ins** \n",
    "\n",
    "Does our example above follow LEGB rule?"
   ]
  },
  {
   "cell_type": "code",
   "execution_count": 74,
   "metadata": {},
   "outputs": [
    {
     "name": "stdout",
     "output_type": "stream",
     "text": [
      "my_list inside function (1): ['A', 'B', 'C']\n",
      "my_list inside function (2): ['D', 'E']\n",
      "my_list outside the function: ['A', 'B', 'C']\n"
     ]
    }
   ],
   "source": [
    "my_list = ['A','B','C']\n",
    "\n",
    "def func(my_list):\n",
    "    print('my_list inside function (1):',my_list)\n",
    "    my_list =(['D','E'])\n",
    "    print('my_list inside function (2):',my_list)\n",
    "    return\n",
    "\n",
    "func(my_list)\n",
    "print('my_list outside the function:',my_list)"
   ]
  },
  {
   "cell_type": "code",
   "execution_count": 78,
   "metadata": {},
   "outputs": [
    {
     "name": "stdout",
     "output_type": "stream",
     "text": [
      "my_list inside function (1): ['A', 'B', 'C']\n",
      "my_list inside function (2): ['A', 'B', 'C', ['D', 'E']]\n",
      "my_list outside the function: ['A', 'B', 'C', ['D', 'E']]\n"
     ]
    }
   ],
   "source": [
    "my_list = ['A','B','C']\n",
    "\n",
    "def func(my_list):\n",
    "    print('my_list inside function (1):',my_list)\n",
    "    my_list.append(['D','E'])\n",
    "    print('my_list inside function (2):',my_list)\n",
    "    return\n",
    "\n",
    "func(my_list)\n",
    "print('my_list outside the function:',my_list)"
   ]
  },
  {
   "cell_type": "markdown",
   "metadata": {},
   "source": [
    "## Enclosing Function (nested functions)\n"
   ]
  },
  {
   "cell_type": "code",
   "execution_count": 28,
   "metadata": {},
   "outputs": [
    {
     "name": "stdout",
     "output_type": "stream",
     "text": [
      "outer x\n",
      "outer x\n"
     ]
    }
   ],
   "source": [
    "y = 'global'\n",
    "def outer():\n",
    "    x = 'outer x'\n",
    "    def inner():\n",
    "        #x = 'inner x'\n",
    "        print(x)\n",
    "    inner()\n",
    "    print(x)\n",
    "     \n",
    "\n",
    "#print(outer())\n",
    "outer()\n",
    "#print(outer())\n",
    "#L1: is print(x) in inner()\n",
    "#L2: is print(x) in outer()\n",
    "#L3: is printing the function outer() return value"
   ]
  },
  {
   "cell_type": "code",
   "execution_count": null,
   "metadata": {},
   "outputs": [],
   "source": []
  }
 ],
 "metadata": {
  "celltoolbar": "Slideshow",
  "kernelspec": {
   "display_name": "Python 3 (ipykernel)",
   "language": "python",
   "name": "python3"
  },
  "language_info": {
   "codemirror_mode": {
    "name": "ipython",
    "version": 3
   },
   "file_extension": ".py",
   "mimetype": "text/x-python",
   "name": "python",
   "nbconvert_exporter": "python",
   "pygments_lexer": "ipython3",
   "version": "3.11.8"
  }
 },
 "nbformat": 4,
 "nbformat_minor": 4
}
